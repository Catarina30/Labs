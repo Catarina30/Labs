{
 "cells": [
  {
   "cell_type": "markdown",
   "metadata": {},
   "source": [
    "# Lab 8 \n",
    "\n",
    "A simple chatbot\n",
    "\n",
    "**1.** Create a function that asks the user his name and says Hello, John Doe\n",
    "\n",
    "**2.** Create a function called chat that ask the user what is his problem and will answer \"yes of course\"\n",
    "\n",
    "**3.** Create a function called chat that ask the user what is his problem and will answer randomly among 6 possible answers\n",
    "\n",
    "**4.** Put all together and improve\n"
   ]
  },
  {
   "cell_type": "markdown",
   "metadata": {},
   "source": [
    "**1.** Create a function that ask the user his name and says Hello, John Doe"
   ]
  },
  {
   "cell_type": "code",
   "execution_count": 1,
   "metadata": {},
   "outputs": [
    {
     "name": "stdout",
     "output_type": "stream",
     "text": [
      "What's your name?Catarina\n"
     ]
    },
    {
     "data": {
      "text/plain": [
       "'Nice to meet you, Catarina'"
      ]
     },
     "execution_count": 1,
     "metadata": {},
     "output_type": "execute_result"
    }
   ],
   "source": [
    "# Create a function that ask the user his name and says Hello, John Doe\n",
    "\n",
    "def ask(question,answer):\n",
    "    msg=''\n",
    "    while msg == \"\":\n",
    "        msg=input(question)\n",
    "    return str(answer) + \"\" + str(msg)\n",
    "\n",
    "ask(\"What's your name?\", \"Nice to meet you, \")"
   ]
  },
  {
   "cell_type": "markdown",
   "metadata": {},
   "source": [
    "**2.** Create a function called chat that ask the user what is his problem and will answer \"yes of course\""
   ]
  },
  {
   "cell_type": "code",
   "execution_count": 2,
   "metadata": {},
   "outputs": [
    {
     "name": "stdout",
     "output_type": "stream",
     "text": [
      "What's your problem?nothing\n",
      "yes, of course\n",
      "What's your problem?bye\n",
      "yes, of course\n"
     ]
    }
   ],
   "source": [
    "def chat():\n",
    "    problem=\"\"\n",
    "    while problem != \"bye\":\n",
    "        problem=input(\"What's your problem?\")\n",
    "        print(\"yes, of course\")\n",
    "        \n",
    "chat()"
   ]
  },
  {
   "cell_type": "markdown",
   "metadata": {},
   "source": [
    "**3.** Create a function called chat that ask the user what is his problem and will answer randomly among 6 possible answers"
   ]
  },
  {
   "cell_type": "code",
   "execution_count": 3,
   "metadata": {},
   "outputs": [
    {
     "name": "stdout",
     "output_type": "stream",
     "text": [
      "What's your problem?nothing\n",
      "yes\n",
      "What's your problem?everything\n",
      "i'm sorry\n",
      "What's your problem?bye\n",
      "too bad\n"
     ]
    }
   ],
   "source": [
    "# Create a function called chat that ask the user what is his problem and will answer randomly among 6 possible answers\n",
    " \n",
    "import random\n",
    "randomAnswer=(\"yes\",\"no\",\"i'm sorry\",\"too bad\")\n",
    "def chat1():\n",
    "    probl=''\n",
    "    while probl != \"bye\":\n",
    "        probl=input(\"What's your problem?\")\n",
    "        print(random.choice(randomAnswer))\n",
    "        \n",
    "chat1()"
   ]
  },
  {
   "cell_type": "markdown",
   "metadata": {},
   "source": [
    "**4.** Put all together and improve"
   ]
  },
  {
   "cell_type": "code",
   "execution_count": 9,
   "metadata": {},
   "outputs": [
    {
     "name": "stdout",
     "output_type": "stream",
     "text": [
      "What's your nameCatarina\n",
      "What's your problem?nothing\n",
      "yes\n",
      "What's your nameGonçalo\n",
      "What's your problem?everything\n",
      "too bad\n",
      "What's your namebye\n"
     ]
    }
   ],
   "source": [
    "import random\n",
    "randomAnswer=(\"yes\",\"no\",\"i'm sorry\",\"too bad\")\n",
    "\n",
    "def final():\n",
    "    msg=''\n",
    "    while msg!='bye':\n",
    "        msg=input(\"What's your name\")\n",
    "    \n",
    "        if msg!='bye':\n",
    "            msg= input(\"What's your problem?\")\n",
    "            print(random.choice(randomAnswer))\n",
    "            \n",
    "final()"
   ]
  },
  {
   "cell_type": "code",
   "execution_count": null,
   "metadata": {},
   "outputs": [],
   "source": []
  }
 ],
 "metadata": {
  "kernelspec": {
   "display_name": "Python 3",
   "language": "python",
   "name": "python3"
  },
  "language_info": {
   "codemirror_mode": {
    "name": "ipython",
    "version": 3
   },
   "file_extension": ".py",
   "mimetype": "text/x-python",
   "name": "python",
   "nbconvert_exporter": "python",
   "pygments_lexer": "ipython3",
   "version": "3.7.3"
  }
 },
 "nbformat": 4,
 "nbformat_minor": 2
}
