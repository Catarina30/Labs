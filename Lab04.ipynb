{
 "cells": [
  {
   "cell_type": "code",
   "execution_count": 1,
   "metadata": {},
   "outputs": [
    {
     "name": "stdout",
     "output_type": "stream",
     "text": [
      "[1000.0, 1100.0, 1210.0000000000002, 1331.0000000000005, 1464.1000000000004, 1610.5100000000004]\n"
     ]
    }
   ],
   "source": [
    "#Create a list of volume of sales considering the following assumptions:\n",
    "#inicial valueSales =1000\n",
    "#anual growth rate = 10%\n",
    "#number of years = 6\n",
    "\n",
    "inicialSales=1000\n",
    "rate=0.1\n",
    "years=6\n",
    "\n",
    "sales = []\n",
    "\n",
    "for i in range(years):\n",
    "    \n",
    "    VSales = inicialSales*(1+rate)**i\n",
    "    sales.append(VSales)\n",
    "   \n",
    "print(sales)\n",
    "\n"
   ]
  },
  {
   "cell_type": "code",
   "execution_count": 2,
   "metadata": {},
   "outputs": [
    {
     "name": "stdout",
     "output_type": "stream",
     "text": [
      "[1000.0, 1100.0, 1210.0000000000002, 1331.0000000000005, 1464.1000000000004, 1610.5100000000004]\n"
     ]
    }
   ],
   "source": [
    "SALES=[]\n",
    "for i in range (years):\n",
    "    SALES.append(inicialSales*(1+rate)**i)\n",
    "print(SALES)"
   ]
  },
  {
   "cell_type": "code",
   "execution_count": 3,
   "metadata": {},
   "outputs": [
    {
     "name": "stdout",
     "output_type": "stream",
     "text": [
      "[300.00000000000006, 330.00000000000006, 363.0000000000001, 399.3000000000002, 439.2300000000002, 483.1530000000002]\n"
     ]
    }
   ],
   "source": [
    "#Based on the previews list, create a list with costs knowing the profit margin:\n",
    "#margin =70%\n",
    "\n",
    "margin=0.7\n",
    "\n",
    "cost = []\n",
    "for i in range(years):\n",
    "    VSales1= (inicialSales*(1+rate)**i)*(1-margin)\n",
    "    cost.append(VSales1)\n",
    "print(cost)\n",
    "\n"
   ]
  },
  {
   "cell_type": "code",
   "execution_count": 4,
   "metadata": {},
   "outputs": [
    {
     "name": "stdout",
     "output_type": "stream",
     "text": [
      "[300.00000000000006, 330.00000000000006, 363.0000000000001, 399.3000000000002, 439.2300000000002, 483.1530000000002]\n"
     ]
    }
   ],
   "source": [
    "COST=[]\n",
    "for i in range (years):\n",
    "    COST.append(inicialSales*(1+rate)**i*(1-margin))\n",
    "print(COST)"
   ]
  },
  {
   "cell_type": "code",
   "execution_count": 6,
   "metadata": {},
   "outputs": [
    {
     "name": "stdout",
     "output_type": "stream",
     "text": [
      "[700.0, 770.0, 847.0000000000001, 931.7000000000003, 1024.8700000000001, 1127.3570000000002]\n"
     ]
    }
   ],
   "source": [
    "#Create a list with the profit based on the last 2 exercises (profit = sales - cost)\n",
    "PROFIT=[]\n",
    "for i in range (years):\n",
    "    PROFIT.append(SALES[i]-COST[i])\n",
    "print(PROFIT)"
   ]
  },
  {
   "cell_type": "code",
   "execution_count": 7,
   "metadata": {},
   "outputs": [
    {
     "name": "stdout",
     "output_type": "stream",
     "text": [
      "[200.0, 270.0, 347.0000000000001, 431.7000000000003, 524.8700000000001, 627.3570000000002]\n"
     ]
    }
   ],
   "source": [
    "#Calculate a newProfit suposing 500 of fixed costs\n",
    "\n",
    "fixed = 500\n",
    "\n",
    "newprofits=[]\n",
    "for i in (SALES):\n",
    "    newprofits.append(i*margin - fixed)\n",
    "print(newprofits)\n"
   ]
  },
  {
   "cell_type": "code",
   "execution_count": 8,
   "metadata": {},
   "outputs": [
    {
     "name": "stdout",
     "output_type": "stream",
     "text": [
      "[573, 361, 918, 929, 1952, 573]\n"
     ]
    }
   ],
   "source": [
    "#Create a newSales list with random generated values between 200 and 2000. Corresponding to volume of sales\n",
    "#during a certainn numberOfYears.\n",
    "#some ints:\n",
    "#Import module, writing import random\n",
    "#use the method random.randint(a, b). This method is used to generate values between a and b ( Return a\n",
    "#random integer N such that a <= N <= b.):\n",
    "\n",
    "import random\n",
    "newSales=[]\n",
    "\n",
    "for i in range (years):\n",
    "    newSales.append(random.randint(200,2000))\n",
    "print(newSales)\n"
   ]
  },
  {
   "cell_type": "code",
   "execution_count": 10,
   "metadata": {},
   "outputs": [
    {
     "name": "stdout",
     "output_type": "stream",
     "text": [
      "[-98.90000000000003, -247.3, 142.5999999999999, 150.29999999999995, 866.3999999999999, -98.90000000000003]\n"
     ]
    }
   ],
   "source": [
    "#Create a new list with profits (newProfit). With margin 70% with fixed costs stated previously.\n",
    "\n",
    "NEW=[]\n",
    "for i in range (years):\n",
    "    NEW.append((newSales[i]*margin)-fixed)\n",
    "print(NEW)"
   ]
  },
  {
   "cell_type": "code",
   "execution_count": 16,
   "metadata": {},
   "outputs": [
    {
     "name": "stdout",
     "output_type": "stream",
     "text": [
      "50.0\n"
     ]
    }
   ],
   "source": [
    "#What is the percentage of years having profits in the total?\n",
    "\n",
    "revenue=[]\n",
    "for i in NEW:\n",
    "    if i > 0 :\n",
    "        revenue.append(i)\n",
    "percent=(len(revenue)/6)*100\n",
    "print(percent)"
   ]
  },
  {
   "cell_type": "code",
   "execution_count": 18,
   "metadata": {},
   "outputs": [
    {
     "data": {
      "image/png": "[encoded data removed]",
      "text/plain": [
       "<Figure size 432x288 with 1 Axes>"
      ]
     },
     "metadata": {
      "needs_background": "light"
     },
     "output_type": "display_data"
    }
   ],
   "source": [
    "#Plot the sales and the newSales (generated randomly) throughout the years.\n",
    "\n",
    "import matplotlib.pyplot as plt\n",
    "plt.plot(sales)\n",
    "plt.plot(newSales)\n",
    "plt.ylabel('sales')\n",
    "plt.xlabel('years')\n",
    "plt.show()"
   ]
  },
  {
   "cell_type": "code",
   "execution_count": null,
   "metadata": {},
   "outputs": [],
   "source": []
  }
 ],
 "metadata": {
  "kernelspec": {
   "display_name": "Python 3",
   "language": "python",
   "name": "python3"
  },
  "language_info": {
   "codemirror_mode": {
    "name": "ipython",
    "version": 3
   },
   "file_extension": ".py",
   "mimetype": "text/x-python",
   "name": "python",
   "nbconvert_exporter": "python",
   "pygments_lexer": "ipython3",
   "version": "3.7.3"
  }
 },
 "nbformat": 4,
 "nbformat_minor": 2
}
