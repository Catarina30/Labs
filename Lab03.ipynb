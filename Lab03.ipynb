{
 "cells": [
  {
   "cell_type": "markdown",
   "metadata": {},
   "source": [
    "# Lab 3\n",
    "In the following cell cell you have several list. "
   ]
  },
  {
   "cell_type": "code",
   "execution_count": 1,
   "metadata": {},
   "outputs": [],
   "source": [
    "#list of 007 movies where Sean Connery features James Bond\n",
    "moviesSeanConnery = [\"Dr. No (1962)\",\n",
    "\"From Russia with Love (1963)\",\n",
    "\"Goldfinger (1964)\",\n",
    "\"Thunderball (1965)\",\n",
    "\"You Only Live Twice (1967)\",\n",
    "\"Diamonds Are Forever (1971)\",    \n",
    "\"Never Say Never Again (1983)\"]  \n",
    "\n",
    "#list of 007 movies where David Neven features James Bond\n",
    "moviesDavidNeven=[\"Casino Royale (1967)\"]    \n",
    "\n",
    "#list of 007 movies where George Lazenby features James Bond\n",
    "moviesGeorgeLazenby=[\"On Her Majesty's Secret Service (1969)\"]  \n",
    "          \n",
    "#list of 007 movies where Roger Moore features James Bond   \n",
    "moviesRogerMoore=[ \"Live and Let Die (1973)\",\n",
    "\"The Man with the Golden Gun (1974)\",\n",
    "\"The Spy Who Loved Me (1977)\",\n",
    "\"Moonraker (1979)\",\n",
    "\"For Your Eyes Only (1981)\",\n",
    "\"Octopussy (1983)\",\n",
    "\"A View to a Kill (1985)\"]\n",
    "\n",
    "#list of 007 movies where Timothy Dalton features James Bond  \n",
    "moviesTimothyDalton=[\n",
    "\"The Living Daylights (1987)\",\n",
    "\"Licence to Kill (1989)\"  \n",
    "]\n",
    "\n",
    "#list of 007 movies where Pierce Brosnan features James Bond  \n",
    "moviesPierceBrosnan=[\n",
    "\"GoldenEye (1995)\",\n",
    "\"Tomorrow Never Dies (1997)\",\n",
    "\"The World Is Not Enough (1999)\",\n",
    "\"Die Another Day (2002)\"\n",
    "]\n",
    "\n",
    "#list of 007 movies where Daniel Craig features James Bond \n",
    "moviesDanielCraig=[\"Casino Royale (2006)\",\n",
    "\"Quantum of Solace (2008)\",\n",
    "\"Skyfall (2012)\",\n",
    "\"Spectre (2015)\"]\n"
   ]
  },
  {
   "cell_type": "markdown",
   "metadata": {},
   "source": [
    "**1)** create a list of lists (movies007). The list will be composed by each list of movies featured by each actor."
   ]
  },
  {
   "cell_type": "code",
   "execution_count": 2,
   "metadata": {},
   "outputs": [
    {
     "data": {
      "text/plain": [
       "[['Dr. No (1962)',\n",
       "  'From Russia with Love (1963)',\n",
       "  'Goldfinger (1964)',\n",
       "  'Thunderball (1965)',\n",
       "  'You Only Live Twice (1967)',\n",
       "  'Diamonds Are Forever (1971)',\n",
       "  'Never Say Never Again (1983)'],\n",
       " ['Casino Royale (1967)'],\n",
       " [\"On Her Majesty's Secret Service (1969)\"],\n",
       " ['Live and Let Die (1973)',\n",
       "  'The Man with the Golden Gun (1974)',\n",
       "  'The Spy Who Loved Me (1977)',\n",
       "  'Moonraker (1979)',\n",
       "  'For Your Eyes Only (1981)',\n",
       "  'Octopussy (1983)',\n",
       "  'A View to a Kill (1985)'],\n",
       " ['The Living Daylights (1987)', 'Licence to Kill (1989)'],\n",
       " ['GoldenEye (1995)',\n",
       "  'Tomorrow Never Dies (1997)',\n",
       "  'The World Is Not Enough (1999)',\n",
       "  'Die Another Day (2002)'],\n",
       " ['Casino Royale (2006)',\n",
       "  'Quantum of Solace (2008)',\n",
       "  'Skyfall (2012)',\n",
       "  'Spectre (2015)']]"
      ]
     },
     "execution_count": 2,
     "metadata": {},
     "output_type": "execute_result"
    }
   ],
   "source": [
    "movieList = []\n",
    "movieList\n",
    "\n",
    "movieList.append (moviesSeanConnery)\n",
    "movieList.append (moviesDavidNeven)\n",
    "movieList.append (moviesGeorgeLazenby)\n",
    "movieList.append (moviesRogerMoore)\n",
    "movieList.append (moviesTimothyDalton)\n",
    "movieList.append (moviesPierceBrosnan)\n",
    "movieList.append (moviesDanielCraig)\n",
    "\n",
    "movieList\n"
   ]
  },
  {
   "cell_type": "code",
   "execution_count": null,
   "metadata": {},
   "outputs": [],
   "source": []
  },
  {
   "cell_type": "markdown",
   "metadata": {},
   "source": [
    "**2)** How many movies were played by the first actor to play James Bond?"
   ]
  },
  {
   "cell_type": "code",
   "execution_count": 3,
   "metadata": {},
   "outputs": [
    {
     "data": {
      "text/plain": [
       "7"
      ]
     },
     "execution_count": 3,
     "metadata": {},
     "output_type": "execute_result"
    }
   ],
   "source": [
    "len (moviesSeanConnery)"
   ]
  },
  {
   "cell_type": "code",
   "execution_count": 4,
   "metadata": {},
   "outputs": [
    {
     "data": {
      "text/plain": [
       "7"
      ]
     },
     "execution_count": 4,
     "metadata": {},
     "output_type": "execute_result"
    }
   ],
   "source": [
    "len (movieList [0])"
   ]
  },
  {
   "cell_type": "markdown",
   "metadata": {},
   "source": [
    "**3)** How many movies were played by the last actor to play James Bond?"
   ]
  },
  {
   "cell_type": "code",
   "execution_count": 5,
   "metadata": {},
   "outputs": [
    {
     "data": {
      "text/plain": [
       "4"
      ]
     },
     "execution_count": 5,
     "metadata": {},
     "output_type": "execute_result"
    }
   ],
   "source": [
    "len (moviesDanielCraig)"
   ]
  },
  {
   "cell_type": "code",
   "execution_count": 6,
   "metadata": {},
   "outputs": [
    {
     "data": {
      "text/plain": [
       "4"
      ]
     },
     "execution_count": 6,
     "metadata": {},
     "output_type": "execute_result"
    }
   ],
   "source": [
    "len (movieList [-1])"
   ]
  },
  {
   "cell_type": "markdown",
   "metadata": {},
   "source": [
    "**4)** How many actors played the role of James Bond?"
   ]
  },
  {
   "cell_type": "code",
   "execution_count": 7,
   "metadata": {},
   "outputs": [
    {
     "data": {
      "text/plain": [
       "7"
      ]
     },
     "execution_count": 7,
     "metadata": {},
     "output_type": "execute_result"
    }
   ],
   "source": [
    "len (movieList)"
   ]
  },
  {
   "cell_type": "markdown",
   "metadata": {},
   "source": [
    "**5)**  Create a new list with the number of movies played by each actor"
   ]
  },
  {
   "cell_type": "code",
   "execution_count": 10,
   "metadata": {},
   "outputs": [
    {
     "data": {
      "text/plain": [
       "[7, 1, 1, 7, 2, 4, 4]"
      ]
     },
     "execution_count": 10,
     "metadata": {},
     "output_type": "execute_result"
    }
   ],
   "source": [
    "movie007List = []\n",
    "\n",
    "movie007List.append (len(moviesSeanConnery))\n",
    "movie007List.append (len(moviesDavidNeven))\n",
    "movie007List.append (len(moviesGeorgeLazenby))\n",
    "movie007List.append (len(moviesRogerMoore))\n",
    "movie007List.append (len(moviesTimothyDalton))\n",
    "movie007List.append (len(moviesPierceBrosnan))\n",
    "movie007List.append (len(moviesDanielCraig))\n",
    "\n",
    "movie007List\n"
   ]
  },
  {
   "cell_type": "code",
   "execution_count": 9,
   "metadata": {},
   "outputs": [
    {
     "ename": "IndentationError",
     "evalue": "expected an indented block (<ipython-input-9-769362629c7a>, line 4)",
     "output_type": "error",
     "traceback": [
      "\u001b[1;36m  File \u001b[1;32m\"<ipython-input-9-769362629c7a>\"\u001b[1;36m, line \u001b[1;32m4\u001b[0m\n\u001b[1;33m    numberOfMoviesPlayed.append (len (MoviesPlayedByActor))\u001b[0m\n\u001b[1;37m                       ^\u001b[0m\n\u001b[1;31mIndentationError\u001b[0m\u001b[1;31m:\u001b[0m expected an indented block\n"
     ]
    }
   ],
   "source": [
    "numberOfMoviesPLayed = []\n",
    "i = 0\n",
    "for MoviesPlayedByActor in movieList:\n",
    "numberOfMoviesPlayed.append (len (MoviesPlayedByActor))\n",
    "# i+=1\n",
    "numberOfMoviesPlayed\n"
   ]
  },
  {
   "cell_type": "code",
   "execution_count": null,
   "metadata": {},
   "outputs": [],
   "source": []
  },
  {
   "cell_type": "code",
   "execution_count": null,
   "metadata": {},
   "outputs": [],
   "source": []
  },
  {
   "cell_type": "markdown",
   "metadata": {},
   "source": [
    "**6)**  How many movies were played by the actor who appeared most often in movies?"
   ]
  },
  {
   "cell_type": "code",
   "execution_count": 12,
   "metadata": {},
   "outputs": [
    {
     "data": {
      "text/plain": [
       "7"
      ]
     },
     "execution_count": 12,
     "metadata": {},
     "output_type": "execute_result"
    }
   ],
   "source": [
    "max (movie007List)"
   ]
  },
  {
   "cell_type": "markdown",
   "metadata": {},
   "source": [
    "**7)**  How many movies were played by the actor who appeared in fewer movies?"
   ]
  },
  {
   "cell_type": "code",
   "execution_count": 13,
   "metadata": {},
   "outputs": [
    {
     "data": {
      "text/plain": [
       "1"
      ]
     },
     "execution_count": 13,
     "metadata": {},
     "output_type": "execute_result"
    }
   ],
   "source": [
    "min(movie007List)"
   ]
  },
  {
   "cell_type": "markdown",
   "metadata": {},
   "source": [
    "**8)**  Create a new list (movies007a) with all the films. "
   ]
  },
  {
   "cell_type": "code",
   "execution_count": 14,
   "metadata": {},
   "outputs": [
    {
     "data": {
      "text/plain": [
       "[['Dr. No (1962)',\n",
       "  'From Russia with Love (1963)',\n",
       "  'Goldfinger (1964)',\n",
       "  'Thunderball (1965)',\n",
       "  'You Only Live Twice (1967)',\n",
       "  'Diamonds Are Forever (1971)',\n",
       "  'Never Say Never Again (1983)'],\n",
       " ['Casino Royale (1967)'],\n",
       " [\"On Her Majesty's Secret Service (1969)\"],\n",
       " ['Live and Let Die (1973)',\n",
       "  'The Man with the Golden Gun (1974)',\n",
       "  'The Spy Who Loved Me (1977)',\n",
       "  'Moonraker (1979)',\n",
       "  'For Your Eyes Only (1981)',\n",
       "  'Octopussy (1983)',\n",
       "  'A View to a Kill (1985)'],\n",
       " ['The Living Daylights (1987)', 'Licence to Kill (1989)'],\n",
       " ['GoldenEye (1995)',\n",
       "  'Tomorrow Never Dies (1997)',\n",
       "  'The World Is Not Enough (1999)',\n",
       "  'Die Another Day (2002)'],\n",
       " ['Casino Royale (2006)',\n",
       "  'Quantum of Solace (2008)',\n",
       "  'Skyfall (2012)',\n",
       "  'Spectre (2015)']]"
      ]
     },
     "execution_count": 14,
     "metadata": {},
     "output_type": "execute_result"
    }
   ],
   "source": [
    "movieList007a = []\n",
    "movieList007a\n",
    "\n",
    "movieList007a.append (moviesSeanConnery)\n",
    "movieList007a.append (moviesDavidNeven)\n",
    "movieList007a.append (moviesGeorgeLazenby)\n",
    "movieList007a.append (moviesRogerMoore)\n",
    "movieList007a.append (moviesTimothyDalton)\n",
    "movieList007a.append (moviesPierceBrosnan)\n",
    "movieList007a.append (moviesDanielCraig)\n",
    "\n",
    "movieList007a\n"
   ]
  },
  {
   "cell_type": "code",
   "execution_count": null,
   "metadata": {},
   "outputs": [],
   "source": []
  },
  {
   "cell_type": "markdown",
   "metadata": {},
   "source": [
    "**9)** Sort the elements of the list "
   ]
  },
  {
   "cell_type": "code",
   "execution_count": 15,
   "metadata": {},
   "outputs": [
    {
     "data": {
      "text/plain": [
       "[['Casino Royale (1967)'],\n",
       " [\"On Her Majesty's Secret Service (1969)\"],\n",
       " ['The Living Daylights (1987)', 'Licence to Kill (1989)'],\n",
       " ['GoldenEye (1995)',\n",
       "  'Tomorrow Never Dies (1997)',\n",
       "  'The World Is Not Enough (1999)',\n",
       "  'Die Another Day (2002)'],\n",
       " ['Casino Royale (2006)',\n",
       "  'Quantum of Solace (2008)',\n",
       "  'Skyfall (2012)',\n",
       "  'Spectre (2015)'],\n",
       " ['Dr. No (1962)',\n",
       "  'From Russia with Love (1963)',\n",
       "  'Goldfinger (1964)',\n",
       "  'Thunderball (1965)',\n",
       "  'You Only Live Twice (1967)',\n",
       "  'Diamonds Are Forever (1971)',\n",
       "  'Never Say Never Again (1983)'],\n",
       " ['Live and Let Die (1973)',\n",
       "  'The Man with the Golden Gun (1974)',\n",
       "  'The Spy Who Loved Me (1977)',\n",
       "  'Moonraker (1979)',\n",
       "  'For Your Eyes Only (1981)',\n",
       "  'Octopussy (1983)',\n",
       "  'A View to a Kill (1985)']]"
      ]
     },
     "execution_count": 15,
     "metadata": {},
     "output_type": "execute_result"
    }
   ],
   "source": [
    "movieList007a.sort (key=len)\n",
    "movieList007a\n"
   ]
  },
  {
   "cell_type": "code",
   "execution_count": null,
   "metadata": {},
   "outputs": [],
   "source": []
  },
  {
   "cell_type": "markdown",
   "metadata": {},
   "source": [
    "**9)** Reverse the order of the list. What will happen if this method is executed twice? Does this method sort the list if it is not sorted?"
   ]
  },
  {
   "cell_type": "code",
   "execution_count": 16,
   "metadata": {},
   "outputs": [
    {
     "data": {
      "text/plain": [
       "[['Live and Let Die (1973)',\n",
       "  'The Man with the Golden Gun (1974)',\n",
       "  'The Spy Who Loved Me (1977)',\n",
       "  'Moonraker (1979)',\n",
       "  'For Your Eyes Only (1981)',\n",
       "  'Octopussy (1983)',\n",
       "  'A View to a Kill (1985)'],\n",
       " ['Dr. No (1962)',\n",
       "  'From Russia with Love (1963)',\n",
       "  'Goldfinger (1964)',\n",
       "  'Thunderball (1965)',\n",
       "  'You Only Live Twice (1967)',\n",
       "  'Diamonds Are Forever (1971)',\n",
       "  'Never Say Never Again (1983)'],\n",
       " ['Casino Royale (2006)',\n",
       "  'Quantum of Solace (2008)',\n",
       "  'Skyfall (2012)',\n",
       "  'Spectre (2015)'],\n",
       " ['GoldenEye (1995)',\n",
       "  'Tomorrow Never Dies (1997)',\n",
       "  'The World Is Not Enough (1999)',\n",
       "  'Die Another Day (2002)'],\n",
       " ['The Living Daylights (1987)', 'Licence to Kill (1989)'],\n",
       " [\"On Her Majesty's Secret Service (1969)\"],\n",
       " ['Casino Royale (1967)']]"
      ]
     },
     "execution_count": 16,
     "metadata": {},
     "output_type": "execute_result"
    }
   ],
   "source": [
    "movieList007a.reverse()\n",
    "movieList007a\n"
   ]
  },
  {
   "cell_type": "code",
   "execution_count": null,
   "metadata": {},
   "outputs": [],
   "source": []
  },
  {
   "cell_type": "markdown",
   "metadata": {},
   "source": [
    "**10)** What is the index of the movie \"Spectre (2015)\" in the list of movies"
   ]
  },
  {
   "cell_type": "code",
   "execution_count": 20,
   "metadata": {},
   "outputs": [
    {
     "ename": "ValueError",
     "evalue": "'Spectre (2015)' is not in list",
     "output_type": "error",
     "traceback": [
      "\u001b[1;31m---------------------------------------------------------------------------\u001b[0m",
      "\u001b[1;31mValueError\u001b[0m                                Traceback (most recent call last)",
      "\u001b[1;32m<ipython-input-20-002c0c6f8544>\u001b[0m in \u001b[0;36m<module>\u001b[1;34m\u001b[0m\n\u001b[1;32m----> 1\u001b[1;33m \u001b[0mmovieList007a\u001b[0m\u001b[1;33m[\u001b[0m\u001b[1;36m6\u001b[0m\u001b[1;33m]\u001b[0m\u001b[1;33m.\u001b[0m\u001b[0mindex\u001b[0m\u001b[1;33m(\u001b[0m\u001b[1;34m\"Spectre (2015)\"\u001b[0m\u001b[1;33m)\u001b[0m\u001b[1;33m\u001b[0m\u001b[1;33m\u001b[0m\u001b[0m\n\u001b[0m",
      "\u001b[1;31mValueError\u001b[0m: 'Spectre (2015)' is not in list"
     ]
    }
   ],
   "source": [
    "movieList007a[6].index(\"Spectre (2015)\")\n"
   ]
  },
  {
   "cell_type": "markdown",
   "metadata": {},
   "source": [
    "**11)** Add the movie \"007 and the bad Guy of the climate change (2020)\" in the 11th position."
   ]
  },
  {
   "cell_type": "code",
   "execution_count": 55,
   "metadata": {},
   "outputs": [
    {
     "data": {
      "text/plain": [
       "[['Dr. No (1962)',\n",
       "  'From Russia with Love (1963)',\n",
       "  'Goldfinger (1964)',\n",
       "  'Thunderball (1965)',\n",
       "  'You Only Live Twice (1967)',\n",
       "  'Diamonds Are Forever (1971)',\n",
       "  'Never Say Never Again (1983)'],\n",
       " ['Casino Royale (2006)',\n",
       "  'Quantum of Solace (2008)',\n",
       "  'Skyfall (2012)',\n",
       "  'Spectre (2015)'],\n",
       " ['GoldenEye (1995)',\n",
       "  'Tomorrow Never Dies (1997)',\n",
       "  'The World Is Not Enough (1999)',\n",
       "  'Die Another Day (2002)'],\n",
       " '007 and the bad Guy of the climate change (2020)']"
      ]
     },
     "execution_count": 55,
     "metadata": {},
     "output_type": "execute_result"
    }
   ],
   "source": [
    "movieList.insert (11,\"007 and the bad Guy of the climate change (2020)\" )\n",
    "movieList\n"
   ]
  },
  {
   "cell_type": "code",
   "execution_count": null,
   "metadata": {},
   "outputs": [],
   "source": []
  },
  {
   "cell_type": "markdown",
   "metadata": {},
   "source": [
    "**12)** It was a mistake. Remove the movie \"007 and the bad Guy of the climate change (2020)\""
   ]
  },
  {
   "cell_type": "code",
   "execution_count": 56,
   "metadata": {},
   "outputs": [
    {
     "data": {
      "text/plain": [
       "[['Dr. No (1962)',\n",
       "  'From Russia with Love (1963)',\n",
       "  'Goldfinger (1964)',\n",
       "  'Thunderball (1965)',\n",
       "  'You Only Live Twice (1967)',\n",
       "  'Diamonds Are Forever (1971)',\n",
       "  'Never Say Never Again (1983)'],\n",
       " ['Casino Royale (2006)',\n",
       "  'Quantum of Solace (2008)',\n",
       "  'Skyfall (2012)',\n",
       "  'Spectre (2015)'],\n",
       " ['GoldenEye (1995)',\n",
       "  'Tomorrow Never Dies (1997)',\n",
       "  'The World Is Not Enough (1999)',\n",
       "  'Die Another Day (2002)']]"
      ]
     },
     "execution_count": 56,
     "metadata": {},
     "output_type": "execute_result"
    }
   ],
   "source": [
    "movieList.remove(\"007 and the bad Guy of the climate change (2020)\")\n",
    "movieList"
   ]
  },
  {
   "cell_type": "code",
   "execution_count": null,
   "metadata": {},
   "outputs": [],
   "source": []
  }
 ],
 "metadata": {
  "kernelspec": {
   "display_name": "Python 3",
   "language": "python",
   "name": "python3"
  },
  "language_info": {
   "codemirror_mode": {
    "name": "ipython",
    "version": 3
   },
   "file_extension": ".py",
   "mimetype": "text/x-python",
   "name": "python",
   "nbconvert_exporter": "python",
   "pygments_lexer": "ipython3",
   "version": "3.7.3"
  }
 },
 "nbformat": 4,
 "nbformat_minor": 2
}
