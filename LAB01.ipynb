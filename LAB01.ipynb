{
 "cells": [
  {
   "cell_type": "code",
   "execution_count": 1,
   "metadata": {},
   "outputs": [
    {
     "data": {
      "text/plain": [
       "True"
      ]
     },
     "execution_count": 1,
     "metadata": {},
     "output_type": "execute_result"
    }
   ],
   "source": [
    "#verify if a value is integer\n",
    "n = 5\n",
    "n == int(n)"
   ]
  },
  {
   "cell_type": "code",
   "execution_count": 2,
   "metadata": {},
   "outputs": [
    {
     "data": {
      "text/plain": [
       "True"
      ]
     },
     "execution_count": 2,
     "metadata": {},
     "output_type": "execute_result"
    }
   ],
   "source": [
    "#verify if a value is even\n",
    "\n",
    "n=4\n",
    "\n",
    "n % 2 == 0"
   ]
  },
  {
   "cell_type": "code",
   "execution_count": 3,
   "metadata": {},
   "outputs": [
    {
     "data": {
      "text/plain": [
       "True"
      ]
     },
     "execution_count": 3,
     "metadata": {},
     "output_type": "execute_result"
    }
   ],
   "source": [
    "#Insert two numbers. Is the first bigger than the second\n",
    "\n",
    "a = 7 ; b = 2\n",
    "\n",
    "a > b "
   ]
  },
  {
   "cell_type": "code",
   "execution_count": 4,
   "metadata": {},
   "outputs": [
    {
     "data": {
      "text/plain": [
       "True"
      ]
     },
     "execution_count": 4,
     "metadata": {},
     "output_type": "execute_result"
    }
   ],
   "source": [
    "# Verify if one value is multiple of another\n",
    "\n",
    "a = 5 ; b = 20\n",
    "\n",
    "value = a % b \n",
    "\n",
    "value == int (value)"
   ]
  },
  {
   "cell_type": "code",
   "execution_count": 5,
   "metadata": {},
   "outputs": [
    {
     "name": "stdout",
     "output_type": "stream",
     "text": [
      "18.0\n"
     ]
    }
   ],
   "source": [
    "#Calculate the interest earn by an investor that invested a capital of 200 during 3 years with an interest rate of 3%.\n",
    "\n",
    "capital = 200\n",
    "time = 3\n",
    "rate = 0.03\n",
    "\n",
    "interest = capital*time*rate\n",
    "print (interest)"
   ]
  },
  {
   "cell_type": "code",
   "execution_count": 6,
   "metadata": {},
   "outputs": [
    {
     "name": "stdout",
     "output_type": "stream",
     "text": [
      "218.5454\n"
     ]
    }
   ],
   "source": [
    "#Capital that an investor obtained after investing a capital of 200 during 3 years with an interest rate of 3%. \n",
    "\n",
    "c = capital*(1 + rate)**time\n",
    "print (c)"
   ]
  },
  {
   "cell_type": "code",
   "execution_count": 7,
   "metadata": {},
   "outputs": [
    {
     "name": "stdout",
     "output_type": "stream",
     "text": [
      "20.761245674740486\n"
     ]
    }
   ],
   "source": [
    "# Calculate your BMI (Body Mass Index)\n",
    "\n",
    "mass = 60\n",
    "height = 1.70\n",
    "\n",
    "BMI = mass / height**2\n",
    "print(BMI)"
   ]
  },
  {
   "cell_type": "code",
   "execution_count": 8,
   "metadata": {},
   "outputs": [
    {
     "name": "stdout",
     "output_type": "stream",
     "text": [
      "1.75\n"
     ]
    }
   ],
   "source": [
    "#Calcule the Golden ration\n",
    "\n",
    "gr = (1 + (5**1/2)) / 2\n",
    "\n",
    "print (gr)"
   ]
  },
  {
   "cell_type": "code",
   "execution_count": 21,
   "metadata": {},
   "outputs": [
    {
     "data": {
      "text/plain": [
       "1.618033988749895"
      ]
     },
     "execution_count": 21,
     "metadata": {},
     "output_type": "execute_result"
    }
   ],
   "source": [
    "#Calculate the Golden ration\n",
    "\n",
    "import math\n",
    "GRT= (1 + (math.sqrt(5))) / 2\n",
    "GRT"
   ]
  },
  {
   "cell_type": "code",
   "execution_count": 14,
   "metadata": {},
   "outputs": [
    {
     "name": "stdout",
     "output_type": "stream",
     "text": [
      "31762.10641349634\n"
     ]
    }
   ],
   "source": [
    "#Calculete the NPV (Net present value) of an investment, considering an initial investment of 10000, the following Cashflows\n",
    "#2000,3000, 4000, 4000 and 5000 and a discount rate of 10%\n",
    "\n",
    "NPV = (2000/(1+0.1)) + (3000/(1+0.1)**2) + (4000/(1+0.1)**3) + (4000/(1+0.1)**4) + (5000/(1+0.1)*5) - 1000\n",
    "\n",
    "print (NPV)"
   ]
  },
  {
   "cell_type": "code",
   "execution_count": 18,
   "metadata": {},
   "outputs": [
    {
     "name": "stdout",
     "output_type": "stream",
     "text": [
      "What's your name?Catarina\n",
      "How old are you?22\n",
      "1997\n"
     ]
    }
   ],
   "source": [
    "#Ask the user to insert name and age. Calculate the the birth. Print a result saying the 'this person was born in\n",
    " \n",
    "Name = input(\"What's your name?\")\n",
    "\n",
    "Age = input (\"How old are you?\")\n",
    "\n",
    "Birth = 2019 - int(Age)\n",
    "print (Birth)"
   ]
  },
  {
   "cell_type": "code",
   "execution_count": null,
   "metadata": {},
   "outputs": [],
   "source": []
  }
 ],
 "metadata": {
  "kernelspec": {
   "display_name": "Python 3",
   "language": "python",
   "name": "python3"
  },
  "language_info": {
   "codemirror_mode": {
    "name": "ipython",
    "version": 3
   },
   "file_extension": ".py",
   "mimetype": "text/x-python",
   "name": "python",
   "nbconvert_exporter": "python",
   "pygments_lexer": "ipython3",
   "version": "3.7.3"
  }
 },
 "nbformat": 4,
 "nbformat_minor": 2
}
